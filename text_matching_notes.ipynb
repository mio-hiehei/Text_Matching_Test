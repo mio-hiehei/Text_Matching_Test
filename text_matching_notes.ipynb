{
 "cells": [
  {
   "cell_type": "markdown",
   "id": "ca784309-0b6b-400c-883a-7d09371ebb1a",
   "metadata": {},
   "source": [
    "## Article ADjusting for Confounding with Text matching\n",
    "\n",
    "- Problem with Text matching: finding units of analysis that are similar on all dimensions (the number of which in DFMs can be very fucking high)\n",
    "\n",
    "Contribution of Authors:\n",
    "\n",
    "1. Framework to use text to address confounding in obs studies.\n",
    "2. general text-matching adjustment strategy balancing on low-dimensional density estimate of data.\n",
    "3. topical inverse regression matching to match on a jointly estimated propensity for treatment and density estimate.\n",
    "\n",
    "This approach requires but facilitates human validation of matching process."
   ]
  },
  {
   "cell_type": "code",
   "execution_count": 1,
   "id": "e5cf54be-188c-4a14-8433-3466efbf42aa",
   "metadata": {},
   "outputs": [
    {
     "name": "stderr",
     "output_type": "stream",
     "text": [
      "stm v1.3.6 successfully loaded. See ?stm for help. \n",
      " Papers, resources, and other materials at structuraltopicmodel.com\n",
      "\n",
      "Package version: 3.2.4\n",
      "Unicode version: 14.0\n",
      "ICU version: 70.1\n",
      "\n",
      "Parallel computing: 8 of 8 threads used.\n",
      "\n",
      "See https://quanteda.io for tutorials and examples.\n",
      "\n"
     ]
    }
   ],
   "source": [
    "library(stm)\n",
    "library(quanteda)"
   ]
  },
  {
   "cell_type": "code",
   "execution_count": 2,
   "id": "052034a2-f109-4a54-9d36-79c16aa155a3",
   "metadata": {},
   "outputs": [],
   "source": [
    "source(\"functions.R\")\n",
    "\n",
    "data <- create_test_data(ncol = 50, nrow = 100)\n",
    "dfm <- data$df\n",
    "vocab <- gen_random_words(n = ncol(dfm))\n",
    "colnames(dfm)  <- vocab\n",
    "treatment <- data$treatment\n",
    "y <- data$y\n"
   ]
  },
  {
   "cell_type": "markdown",
   "id": "7b22e959-a679-4a6f-9b24-bd7b0fae4f6f",
   "metadata": {},
   "source": [
    "What is the first step? We have a lot of observational data. Now we want to split our dataset in two groups: into a treatment and a control group. We have a very large dimensionality, hence: many columns for fewer rows.\n",
    "\n",
    "We want to create two subsets of our data that are as equal as possible with regards to all the columns except for our $y$-column.\n",
    "\n",
    "What do we do? Common algorithms try to match using as much data as possible, but with this approach is going to be hard to match all of the columns because there are too many dimensions and it is unlikely that we will find matches for all. This is where Roberts et al. come into play: We apply TIRM:\n",
    "\n",
    "1. estimate structural topic model including the treatment variable as a content covariate.\n",
    "2. extract each document's (row's) topics calculated as though treated (part of $g(W)$).\n",
    "3. Extract each document's (row's) projection onto the treatment variable (part of $g(W)$).\n",
    "4. Use a low dimensional matching method to match on $g(W)$ and estimate treatment effects using the matched sample."
   ]
  },
  {
   "cell_type": "code",
   "execution_count": 3,
   "id": "36f2f785-e189-432e-b836-38f13b9d0e7f",
   "metadata": {},
   "outputs": [
    {
     "data": {
      "text/plain": [
       "Time difference of 0.001435041 secs"
      ]
     },
     "metadata": {},
     "output_type": "display_data"
    }
   ],
   "source": [
    "K <- 4\n",
    "\n",
    "t0 <- Sys.time()\n",
    "# stm.out.c <- stm(documents = dfm, vocab = vocab, K=K, prevalence=~\n",
    "#                    treatment, content=~treatment,\n",
    "#                  max.em.its=100, \n",
    "#                  seed=1033311)\n",
    "t1 <- Sys.time()\n",
    "t1 - t0"
   ]
  },
  {
   "cell_type": "code",
   "execution_count": null,
   "id": "2047e1f3-1517-450a-9455-40334234fa3d",
   "metadata": {},
   "outputs": [],
   "source": []
  }
 ],
 "metadata": {
  "kernelspec": {
   "display_name": "R",
   "language": "R",
   "name": "ir"
  },
  "language_info": {
   "codemirror_mode": "r",
   "file_extension": ".r",
   "mimetype": "text/x-r-source",
   "name": "R",
   "pygments_lexer": "r",
   "version": "4.1.2"
  }
 },
 "nbformat": 4,
 "nbformat_minor": 5
}
